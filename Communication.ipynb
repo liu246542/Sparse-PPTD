{
 "cells": [
  {
   "cell_type": "code",
   "execution_count": 1,
   "id": "14ef3686-6689-4421-bd23-0436bb4276aa",
   "metadata": {},
   "outputs": [],
   "source": [
    "# 测试通信开销"
   ]
  },
  {
   "cell_type": "code",
   "execution_count": 4,
   "id": "6f13e05e-6aca-40b2-abea-39a0f8a7537a",
   "metadata": {},
   "outputs": [],
   "source": [
    "import numpy as np\n",
    "from utils.SPPTD import SimWorkers, CATD, S0, S1\n",
    "import time\n",
    "from decimal import Decimal\n",
    "import random"
   ]
  },
  {
   "cell_type": "code",
   "execution_count": 25,
   "id": "16ca8d7f-23c1-4d81-abc8-9a4bdc613cc6",
   "metadata": {},
   "outputs": [],
   "source": [
    "def TEST(K, M, S):\n",
    "    res = [0, 0, 0, 0] # worker, S_0 -> S_1, S_0 -> S_1, S_1 -> S_0\n",
    "    ground_truth = [int(random.random() * 100) for m in range(M)]\n",
    "    vw = SimWorkers(K, M, S, ground_truth)\n",
    "    \n",
    "    [S0_Data, S1_Data] = vw.ss()\n",
    "    for i in S0_Data:\n",
    "        res[0] += i.nbytes\n",
    "    for i in S1_Data:\n",
    "        res[0] += i.nbytes\n",
    "\n",
    "    init_truth = [int(random.random() * 100) for m in range(M)]\n",
    "    s0 = S0(K, M, *S0_Data)    \n",
    "    [C0, C_pack1] = s0.pre_up_weight()\n",
    "    res[1] +=np.array(C0).nbytes\n",
    "    for i in C_pack1:\n",
    "        res[1] += i.nbytes\n",
    "    \n",
    "    \n",
    "    s1 = S1(K, M, C0, C_pack1, s0.pk, *S1_Data)\n",
    "    \n",
    "    C = s1.up_weight(init_truth)\n",
    "    res[3] += C.nbytes\n",
    "        \n",
    "    C_pack2 = s0.up_truth(C)\n",
    "    for i in C_pack2:\n",
    "        res[2] += i.nbytes\n",
    "        \n",
    "    [C5, C6] = s1.up_truth(C_pack2)\n",
    "    res[3] += C5.nbytes\n",
    "    res[3] += C6.nbytes\n",
    "    \n",
    "    x = s0.resolve_xt(C5, C6)\n",
    "    res[2] += np.array(x).nbytes\n",
    "    return res"
   ]
  },
  {
   "cell_type": "code",
   "execution_count": 26,
   "id": "efccfbce-849a-4002-80d8-3519998d2e35",
   "metadata": {},
   "outputs": [
    {
     "data": {
      "text/plain": [
       "[9600, 8080, 3440, 400]"
      ]
     },
     "execution_count": 26,
     "metadata": {},
     "output_type": "execute_result"
    }
   ],
   "source": [
    "TEST(10, 20, 8)"
   ]
  },
  {
   "cell_type": "code",
   "execution_count": 27,
   "id": "0f201a31-2774-4106-8aa9-d4fddc0e3494",
   "metadata": {},
   "outputs": [],
   "source": [
    "t1 = []\n",
    "K = 10\n",
    "for M in range(20, 101, 20):\n",
    "    t1.append(TEST(K, M ,8))"
   ]
  },
  {
   "cell_type": "code",
   "execution_count": 28,
   "id": "1e099bfc-a572-4e29-a0c8-2d1292a3479c",
   "metadata": {},
   "outputs": [],
   "source": [
    "t2 = []\n",
    "M = 20\n",
    "for K in range(20, 101, 20):\n",
    "    t2.append(TEST(K, M, 8))"
   ]
  },
  {
   "cell_type": "code",
   "execution_count": 29,
   "id": "4fbd212b-4b7e-4375-aa1d-deb90e9b38e6",
   "metadata": {},
   "outputs": [
    {
     "data": {
      "text/plain": [
       "[[9600, 8080, 3440, 400],\n",
       " [19200, 16080, 6800, 720],\n",
       " [28800, 24080, 10160, 1040],\n",
       " [38400, 32080, 13520, 1360],\n",
       " [48000, 40080, 16880, 1680]]"
      ]
     },
     "execution_count": 29,
     "metadata": {},
     "output_type": "execute_result"
    }
   ],
   "source": [
    "t1"
   ]
  },
  {
   "cell_type": "code",
   "execution_count": 30,
   "id": "5f301850-f758-4b46-88d1-7383d8172b6d",
   "metadata": {},
   "outputs": [
    {
     "data": {
      "text/plain": [
       "[[19200, 16160, 6720, 480],\n",
       " [38400, 32320, 13280, 640],\n",
       " [57600, 48480, 19840, 800],\n",
       " [76800, 64640, 26400, 960],\n",
       " [96000, 80800, 32960, 1120]]"
      ]
     },
     "execution_count": 30,
     "metadata": {},
     "output_type": "execute_result"
    }
   ],
   "source": [
    "t2"
   ]
  },
  {
   "cell_type": "code",
   "execution_count": null,
   "id": "ef419619-b1cd-4b4c-9fb5-cc19ef014c7e",
   "metadata": {},
   "outputs": [],
   "source": []
  }
 ],
 "metadata": {
  "kernelspec": {
   "display_name": "Python 3",
   "language": "python",
   "name": "python3"
  },
  "language_info": {
   "codemirror_mode": {
    "name": "ipython",
    "version": 3
   },
   "file_extension": ".py",
   "mimetype": "text/x-python",
   "name": "python",
   "nbconvert_exporter": "python",
   "pygments_lexer": "ipython3",
   "version": "3.9.2"
  }
 },
 "nbformat": 4,
 "nbformat_minor": 5
}
