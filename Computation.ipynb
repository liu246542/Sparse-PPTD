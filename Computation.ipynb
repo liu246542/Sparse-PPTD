{
 "cells": [
  {
   "cell_type": "code",
   "execution_count": 1,
   "id": "61f573f3-8bb8-41f2-a4bb-b7480297af99",
   "metadata": {},
   "outputs": [],
   "source": [
    "# 测试运行时间"
   ]
  },
  {
   "cell_type": "code",
   "execution_count": 7,
   "id": "1aee4385-08c9-4a5d-8394-1a78472bf7fb",
   "metadata": {},
   "outputs": [],
   "source": [
    "import numpy as np\n",
    "from utils.SPPTD import SimWorkers, CATD, S0, S1\n",
    "import time\n",
    "from decimal import Decimal\n",
    "import random"
   ]
  },
  {
   "cell_type": "code",
   "execution_count": 6,
   "id": "b9081dd1-538a-4cd7-8e15-a7549096054f",
   "metadata": {},
   "outputs": [
    {
     "data": {
      "text/plain": [
       "Decimal('0.06')"
      ]
     },
     "execution_count": 6,
     "metadata": {},
     "output_type": "execute_result"
    }
   ],
   "source": [
    "start = time.process_time()\n",
    "end = time.process_time()\n",
    "Decimal((Decimal(end) - Decimal(start)) * 1000).quantize(Decimal(\"0.00\"))"
   ]
  },
  {
   "cell_type": "code",
   "execution_count": 10,
   "id": "4efb1be6-420b-461c-8f86-2c3b387a54f8",
   "metadata": {},
   "outputs": [],
   "source": [
    "def timecounter(end, start):\n",
    "    return Decimal((Decimal(end) - Decimal(start)) * 1000).quantize(Decimal(\"0.00\"))\n",
    "def TEST(K, M, S):\n",
    "    res = [0, 0, 0, 0] # worker, S_0, S_0, S_1\n",
    "    ground_truth = [int(random.random() * 100) for m in range(M)]\n",
    "    vw = SimWorkers(K, M, S, ground_truth)\n",
    "    start = time.process_time()\n",
    "    [S0_Data, S1_Data] = vw.ss()\n",
    "    end = time.process_time()\n",
    "    res[0] += timecounter(end, start)\n",
    "    \n",
    "    init_truth = [int(random.random() * 100) for m in range(M)]\n",
    "    s0 = S0(K, M, *S0_Data)\n",
    "    start = time.process_time()\n",
    "    [C0, C_pack1] = s0.pre_up_weight()\n",
    "    end = time.process_time()\n",
    "    res[1] += timecounter(end, start)\n",
    "    \n",
    "    s1 = S1(K, M, C0, C_pack1, s0.pk, *S1_Data)\n",
    "    start = time.process_time()\n",
    "    C = s1.up_weight(init_truth)\n",
    "    end = time.process_time()\n",
    "    res[3] += timecounter(end, start)\n",
    "    \n",
    "    start = time.process_time()\n",
    "    C_pack2 = s0.up_truth(C)\n",
    "    end = time.process_time()\n",
    "    res[2] += timecounter(end, start)\n",
    "    \n",
    "    start = time.process_time()\n",
    "    [C5, C6] = s1.up_truth(C_pack2)\n",
    "    end = time.process_time()\n",
    "    res[3] += timecounter(end, start)\n",
    "    \n",
    "    start = time.process_time()\n",
    "    x = s0.resolve_xt(C5, C6)\n",
    "    end = time.process_time()\n",
    "    res[2] += timecounter(end, start)\n",
    "    \n",
    "    return res"
   ]
  },
  {
   "cell_type": "code",
   "execution_count": 13,
   "id": "b1edf710-6cbc-47a6-8e6a-0bb0a96fee78",
   "metadata": {},
   "outputs": [],
   "source": [
    "t1 = []\n",
    "K = 10\n",
    "for M in range(20, 101, 20):\n",
    "    t1.append(TEST(K, M, 8))    "
   ]
  },
  {
   "cell_type": "code",
   "execution_count": 14,
   "id": "aab0a3c6-49a3-464b-9015-6f8f20ba5b12",
   "metadata": {},
   "outputs": [],
   "source": [
    "t2 = []\n",
    "M = 20\n",
    "for K in range(20, 101, 20):\n",
    "    t2.append(TEST(K, M, 8))\n",
    "    "
   ]
  },
  {
   "cell_type": "code",
   "execution_count": 15,
   "id": "a367c3d9-ab9d-476b-906d-ac7c8f10662e",
   "metadata": {},
   "outputs": [
    {
     "data": {
      "text/plain": [
       "[[Decimal('4.10'), Decimal('6930.48'), Decimal('2908.54'), Decimal('520.46')],\n",
       " [Decimal('1.12'),\n",
       "  Decimal('13944.39'),\n",
       "  Decimal('5870.90'),\n",
       "  Decimal('1000.99')],\n",
       " [Decimal('1.22'),\n",
       "  Decimal('20979.66'),\n",
       "  Decimal('8810.99'),\n",
       "  Decimal('1434.30')],\n",
       " [Decimal('1.22'),\n",
       "  Decimal('27805.43'),\n",
       "  Decimal('11466.57'),\n",
       "  Decimal('1916.88')],\n",
       " [Decimal('1.21'),\n",
       "  Decimal('34855.06'),\n",
       "  Decimal('14433.11'),\n",
       "  Decimal('2355.12')]]"
      ]
     },
     "execution_count": 15,
     "metadata": {},
     "output_type": "execute_result"
    }
   ],
   "source": [
    "t1"
   ]
  },
  {
   "cell_type": "code",
   "execution_count": 16,
   "id": "6ef7e0ba-3a8a-4bd8-96bb-12cd790fabea",
   "metadata": {},
   "outputs": [
    {
     "data": {
      "text/plain": [
       "[[Decimal('4.96'),\n",
       "  Decimal('14037.52'),\n",
       "  Decimal('5874.48'),\n",
       "  Decimal('1043.30')],\n",
       " [Decimal('5.41'),\n",
       "  Decimal('28143.78'),\n",
       "  Decimal('11548.20'),\n",
       "  Decimal('2131.71')],\n",
       " [Decimal('5.98'),\n",
       "  Decimal('42412.82'),\n",
       "  Decimal('17493.60'),\n",
       "  Decimal('3211.89')],\n",
       " [Decimal('8.37'),\n",
       "  Decimal('56409.99'),\n",
       "  Decimal('23232.62'),\n",
       "  Decimal('4265.14')],\n",
       " [Decimal('10.24'),\n",
       "  Decimal('70922.17'),\n",
       "  Decimal('28945.82'),\n",
       "  Decimal('5391.52')]]"
      ]
     },
     "execution_count": 16,
     "metadata": {},
     "output_type": "execute_result"
    }
   ],
   "source": [
    "t2"
   ]
  },
  {
   "cell_type": "code",
   "execution_count": null,
   "id": "bed7793a-eff6-44c9-9c72-6902c3a96c00",
   "metadata": {},
   "outputs": [],
   "source": []
  }
 ],
 "metadata": {
  "kernelspec": {
   "display_name": "Python 3",
   "language": "python",
   "name": "python3"
  },
  "language_info": {
   "codemirror_mode": {
    "name": "ipython",
    "version": 3
   },
   "file_extension": ".py",
   "mimetype": "text/x-python",
   "name": "python",
   "nbconvert_exporter": "python",
   "pygments_lexer": "ipython3",
   "version": "3.9.2"
  }
 },
 "nbformat": 4,
 "nbformat_minor": 5
}
