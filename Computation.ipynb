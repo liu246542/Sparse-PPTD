{
 "cells": [
  {
   "cell_type": "code",
   "execution_count": 1,
   "id": "opened-gregory",
   "metadata": {},
   "outputs": [],
   "source": [
    "# 测试运行时间"
   ]
  },
  {
   "cell_type": "code",
   "execution_count": 2,
   "id": "exposed-journey",
   "metadata": {},
   "outputs": [],
   "source": [
    "import numpy as np\n",
    "from utils.SPPTD import SimWorkers, CATD, S0, S1\n",
    "import time\n",
    "from decimal import Decimal\n",
    "import random"
   ]
  },
  {
   "cell_type": "code",
   "execution_count": 3,
   "id": "addressed-oregon",
   "metadata": {},
   "outputs": [
    {
     "data": {
      "text/plain": [
       "Decimal('0.04')"
      ]
     },
     "execution_count": 3,
     "metadata": {},
     "output_type": "execute_result"
    }
   ],
   "source": [
    "start = time.process_time()\n",
    "end = time.process_time()\n",
    "Decimal((Decimal(end) - Decimal(start)) * 1000).quantize(Decimal(\"0.00\"))"
   ]
  },
  {
   "cell_type": "code",
   "execution_count": 4,
   "id": "specialized-pleasure",
   "metadata": {},
   "outputs": [],
   "source": [
    "def timecounter(end, start):\n",
    "    return Decimal((Decimal(end) - Decimal(start)) * 1000).quantize(Decimal(\"0.00\"))\n",
    "def TEST(K, M, S):\n",
    "    res = [0, 0, 0, 0] # worker, S_0, S_0, S_1\n",
    "    ground_truth = [int(random.random() * 100) for m in range(M)]\n",
    "    vw = SimWorkers(K, M, S, ground_truth)\n",
    "    start = time.process_time()\n",
    "    [S0_Data, S1_Data] = vw.ss()\n",
    "    end = time.process_time()\n",
    "    res[0] += timecounter(end, start)\n",
    "    \n",
    "    init_truth = [int(random.random() * 100) for m in range(M)]\n",
    "    s0 = S0(K, M, *S0_Data)\n",
    "    start = time.process_time()\n",
    "    [C0, C_pack1] = s0.pre_up_weight()\n",
    "    end = time.process_time()\n",
    "    res[1] += timecounter(end, start)\n",
    "    \n",
    "    s1 = S1(K, M, C0, C_pack1, s0.pk, *S1_Data)\n",
    "    start = time.process_time()\n",
    "    C = s1.up_weight(init_truth)\n",
    "    end = time.process_time()\n",
    "    res[3] += timecounter(end, start)\n",
    "    \n",
    "    start = time.process_time()\n",
    "    C_pack2 = s0.up_truth(C)\n",
    "    end = time.process_time()\n",
    "    res[2] += timecounter(end, start)\n",
    "    \n",
    "    start = time.process_time()\n",
    "    [C5, C6] = s1.up_truth(C_pack2)\n",
    "    end = time.process_time()\n",
    "    res[3] += timecounter(end, start)\n",
    "    \n",
    "    start = time.process_time()\n",
    "    x = s0.resolve_xt(C5, C6)\n",
    "    end = time.process_time()\n",
    "    res[2] += timecounter(end, start)\n",
    "    \n",
    "    return res"
   ]
  },
  {
   "cell_type": "code",
   "execution_count": 5,
   "id": "constant-helping",
   "metadata": {},
   "outputs": [],
   "source": [
    "t1 = []\n",
    "K = 10\n",
    "for M in range(20, 101, 20):\n",
    "    t1.append(TEST(K, M, 8))    "
   ]
  },
  {
   "cell_type": "code",
   "execution_count": 6,
   "id": "honey-merit",
   "metadata": {},
   "outputs": [],
   "source": [
    "t2 = []\n",
    "M = 20\n",
    "for K in range(20, 101, 20):\n",
    "    t2.append(TEST(K, M, 8))\n",
    "    "
   ]
  },
  {
   "cell_type": "code",
   "execution_count": 7,
   "id": "earlier-rolling",
   "metadata": {},
   "outputs": [
    {
     "data": {
      "text/plain": [
       "[[Decimal('6.04'),\n",
       "  Decimal('14863.33'),\n",
       "  Decimal('6213.15'),\n",
       "  Decimal('1253.11')],\n",
       " [Decimal('1.59'),\n",
       "  Decimal('29347.32'),\n",
       "  Decimal('12203.36'),\n",
       "  Decimal('2355.31')],\n",
       " [Decimal('1.65'),\n",
       "  Decimal('44006.92'),\n",
       "  Decimal('18253.74'),\n",
       "  Decimal('3451.89')],\n",
       " [Decimal('1.65'),\n",
       "  Decimal('58674.95'),\n",
       "  Decimal('24306.18'),\n",
       "  Decimal('4573.19')],\n",
       " [Decimal('1.66'),\n",
       "  Decimal('73137.88'),\n",
       "  Decimal('30248.90'),\n",
       "  Decimal('5650.50')]]"
      ]
     },
     "execution_count": 7,
     "metadata": {},
     "output_type": "execute_result"
    }
   ],
   "source": [
    "t1"
   ]
  },
  {
   "cell_type": "code",
   "execution_count": 8,
   "id": "patient-wholesale",
   "metadata": {},
   "outputs": [
    {
     "data": {
      "text/plain": [
       "[[Decimal('5.96'),\n",
       "  Decimal('29542.86'),\n",
       "  Decimal('12256.50'),\n",
       "  Decimal('2542.27')],\n",
       " [Decimal('5.83'),\n",
       "  Decimal('59088.91'),\n",
       "  Decimal('24333.08'),\n",
       "  Decimal('5037.97')],\n",
       " [Decimal('8.56'),\n",
       "  Decimal('88392.99'),\n",
       "  Decimal('36359.36'),\n",
       "  Decimal('7575.51')],\n",
       " [Decimal('11.24'),\n",
       "  Decimal('118271.76'),\n",
       "  Decimal('48494.65'),\n",
       "  Decimal('10068.25')],\n",
       " [Decimal('13.93'),\n",
       "  Decimal('147788.87'),\n",
       "  Decimal('60580.26'),\n",
       "  Decimal('12625.30')]]"
      ]
     },
     "execution_count": 8,
     "metadata": {},
     "output_type": "execute_result"
    }
   ],
   "source": [
    "t2"
   ]
  }
 ],
 "metadata": {
  "kernelspec": {
   "display_name": "Python 3",
   "language": "python",
   "name": "python3"
  },
  "language_info": {
   "codemirror_mode": {
    "name": "ipython",
    "version": 3
   },
   "file_extension": ".py",
   "mimetype": "text/x-python",
   "name": "python",
   "nbconvert_exporter": "python",
   "pygments_lexer": "ipython3",
   "version": "3.9.3"
  }
 },
 "nbformat": 4,
 "nbformat_minor": 5
}
