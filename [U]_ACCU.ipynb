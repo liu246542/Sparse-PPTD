{
 "cells": [
  {
   "cell_type": "code",
   "execution_count": 1,
   "id": "detailed-alert",
   "metadata": {},
   "outputs": [],
   "source": [
    "# !! 实验现场，注意安全\n",
    "# 测试内容： Accuracy\n",
    "# 固定 M = 20, K: [4, 10], S: [4, 8]\n",
    "import numpy as np\n",
    "import random\n",
    "from decimal import Decimal\n",
    "from utils.SPPTD import SimWorkers, CATD, S0, S1"
   ]
  },
  {
   "cell_type": "code",
   "execution_count": 2,
   "id": "recorded-fundamentals",
   "metadata": {},
   "outputs": [],
   "source": [
    "def RMSE(e_x, t_x):\n",
    "    mse = (np.sum((np.array(e_x) - np.array(t_x)) ** 2)) / M\n",
    "    return mse ** 0.5"
   ]
  },
  {
   "cell_type": "code",
   "execution_count": 3,
   "id": "lesbian-throw",
   "metadata": {},
   "outputs": [],
   "source": [
    "def TEST(K, M, S):\n",
    "    res = [[], []]\n",
    "    ground_truth = [int(random.random() * 100) for m in range(M)]\n",
    "    vw = SimWorkers(K, M, S, ground_truth)\n",
    "    [S0_Data, S1_Data] = vw.ss()\n",
    "    catd = CATD(vw.PHI, vw.XM)\n",
    "    init_truth = [int(random.random() * 100) for m in range(M)]\n",
    "    x = init_truth\n",
    "    for i in range(3):\n",
    "        w = catd.up_weight(x)\n",
    "        x = catd.up_truth(w)\n",
    "    res1 = RMSE(x, ground_truth)\n",
    "    s0 = S0(K, M, *S0_Data)\n",
    "    [C0, C_pack1] = s0.pre_up_weight()\n",
    "    s1 = S1(K, M, C0, C_pack1, s0.pk, *S1_Data)\n",
    "    x = init_truth\n",
    "    for i in range(3):\n",
    "        C = s1.up_weight(x)\n",
    "        C_pack2 = s0.up_truth(C)\n",
    "        [C5, C6] = s1.up_truth(C_pack2)\n",
    "        x = s0.resolve_xt(C5, C6)\n",
    "    res2 = RMSE(x, ground_truth)\n",
    "    return [res1, res2]"
   ]
  },
  {
   "cell_type": "code",
   "execution_count": 4,
   "id": "perceived-agriculture",
   "metadata": {},
   "outputs": [
    {
     "name": "stdout",
     "output_type": "stream",
     "text": [
      "[[0.73579511 0.73579511]\n",
      " [0.56639433 0.56639433]\n",
      " [0.43705043 0.43705043]\n",
      " [0.38612431 0.38612431]\n",
      " [0.37477124 0.37477124]]\n"
     ]
    }
   ],
   "source": [
    "M = 20; S = 8\n",
    "time = np.zeros([5, 2])\n",
    "for i,k in enumerate(range(10, 51, 10)):\n",
    "    for t in range(10):\n",
    "        [res1, res2] = TEST(k, M, S)\n",
    "        time[i][0] += res1\n",
    "        time[i][1] += res2\n",
    "    time[i][0] = time[i][0] / 10\n",
    "    time[i][1] = time[i][1] / 10\n",
    "print(time)"
   ]
  },
  {
   "cell_type": "code",
   "execution_count": 5,
   "id": "asian-northwest",
   "metadata": {},
   "outputs": [
    {
     "name": "stdout",
     "output_type": "stream",
     "text": [
      "[[0.9374307  0.9374307 ]\n",
      " [0.6546265  0.6546265 ]\n",
      " [0.49850087 0.49850087]\n",
      " [0.46183439 0.46183439]\n",
      " [0.40085485 0.40085485]]\n"
     ]
    }
   ],
   "source": [
    "M = 20; S = 6\n",
    "time = np.zeros([5, 2])\n",
    "for i,k in enumerate(range(10, 51, 10)):\n",
    "    for t in range(10):\n",
    "        [res1, res2] = TEST(k, M, S)\n",
    "        time[i][0] += res1\n",
    "        time[i][1] += res2\n",
    "    time[i][0] = time[i][0] / 10\n",
    "    time[i][1] = time[i][1] / 10\n",
    "print(time)"
   ]
  },
  {
   "cell_type": "code",
   "execution_count": 7,
   "id": "tribal-poster",
   "metadata": {},
   "outputs": [
    {
     "name": "stdout",
     "output_type": "stream",
     "text": [
      "[[1.21764986 1.21764986]\n",
      " [0.88551477 0.88551477]\n",
      " [0.65987246 0.65987246]\n",
      " [0.59852042 0.59852042]\n",
      " [0.54972486 0.54972486]]\n"
     ]
    }
   ],
   "source": [
    "M = 20; S = 4\n",
    "time = np.zeros([5, 2])\n",
    "for i,k in enumerate(range(10, 51, 10)):\n",
    "    for t in range(10):\n",
    "        [res1, res2] = TEST(k, M, S)\n",
    "        time[i][0] += res1\n",
    "        time[i][1] += res2\n",
    "    time[i][0] = time[i][0] / 10\n",
    "    time[i][1] = time[i][1] / 10\n",
    "print(time)"
   ]
  },
  {
   "cell_type": "code",
   "execution_count": null,
   "id": "present-albert",
   "metadata": {},
   "outputs": [],
   "source": []
  }
 ],
 "metadata": {
  "kernelspec": {
   "display_name": "Python 3",
   "language": "python",
   "name": "python3"
  },
  "language_info": {
   "codemirror_mode": {
    "name": "ipython",
    "version": 3
   },
   "file_extension": ".py",
   "mimetype": "text/x-python",
   "name": "python",
   "nbconvert_exporter": "python",
   "pygments_lexer": "ipython3",
   "version": "3.9.3"
  }
 },
 "nbformat": 4,
 "nbformat_minor": 5
}
