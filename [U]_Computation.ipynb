{
 "cells": [
  {
   "cell_type": "code",
   "execution_count": 1,
   "id": "lyric-exception",
   "metadata": {},
   "outputs": [],
   "source": [
    "# 测试运行时间"
   ]
  },
  {
   "cell_type": "code",
   "execution_count": 1,
   "id": "legislative-facility",
   "metadata": {},
   "outputs": [],
   "source": [
    "import numpy as np\n",
    "from utils.SPPTD import SimWorkers, CATD, S0, S1\n",
    "import time\n",
    "from decimal import Decimal\n",
    "import random"
   ]
  },
  {
   "cell_type": "code",
   "execution_count": 2,
   "id": "offensive-builder",
   "metadata": {},
   "outputs": [
    {
     "data": {
      "text/plain": [
       "Decimal('0.04')"
      ]
     },
     "execution_count": 2,
     "metadata": {},
     "output_type": "execute_result"
    }
   ],
   "source": [
    "start = time.process_time()\n",
    "end = time.process_time()\n",
    "Decimal((Decimal(end) - Decimal(start)) * 1000).quantize(Decimal(\"0.00\"))"
   ]
  },
  {
   "cell_type": "code",
   "execution_count": 3,
   "id": "partial-appliance",
   "metadata": {},
   "outputs": [],
   "source": [
    "def timecounter(end, start):\n",
    "    return Decimal((Decimal(end) - Decimal(start)) * 1000).quantize(Decimal(\"0.00\"))\n",
    "def TEST(K, M, S):\n",
    "    res = [0, 0, 0, 0] # worker, S_0, S_0, S_1\n",
    "    ground_truth = [int(random.random() * 100) for m in range(M)]\n",
    "    vw = SimWorkers(K, M, S, ground_truth)\n",
    "    start = time.process_time()\n",
    "    [S0_Data, S1_Data] = vw.ss()\n",
    "    end = time.process_time()\n",
    "    res[0] += timecounter(end, start)\n",
    "    \n",
    "    init_truth = [int(random.random() * 100) for m in range(M)]\n",
    "    s0 = S0(K, M, *S0_Data)\n",
    "    start = time.process_time()\n",
    "    [C0, C_pack1] = s0.pre_up_weight()\n",
    "    end = time.process_time()\n",
    "    res[1] += timecounter(end, start)\n",
    "    \n",
    "    s1 = S1(K, M, C0, C_pack1, s0.pk, *S1_Data)\n",
    "    start = time.process_time()\n",
    "    C = s1.up_weight(init_truth)\n",
    "    end = time.process_time()\n",
    "    res[3] += timecounter(end, start)\n",
    "    \n",
    "    start = time.process_time()\n",
    "    C_pack2 = s0.up_truth(C)\n",
    "    end = time.process_time()\n",
    "    res[2] += timecounter(end, start)\n",
    "    \n",
    "    start = time.process_time()\n",
    "    [C5, C6] = s1.up_truth(C_pack2)\n",
    "    end = time.process_time()\n",
    "    res[3] += timecounter(end, start)\n",
    "    \n",
    "    start = time.process_time()\n",
    "    x = s0.resolve_xt(C5, C6)\n",
    "    end = time.process_time()\n",
    "    res[2] += timecounter(end, start)\n",
    "    \n",
    "    return res"
   ]
  },
  {
   "cell_type": "code",
   "execution_count": 4,
   "id": "excessive-democracy",
   "metadata": {},
   "outputs": [],
   "source": [
    "t1 = []\n",
    "K = 10\n",
    "for M in range(20, 101, 20):\n",
    "    t1.append(TEST(K, M, 8))    "
   ]
  },
  {
   "cell_type": "code",
   "execution_count": 5,
   "id": "opened-tissue",
   "metadata": {},
   "outputs": [],
   "source": [
    "t2 = []\n",
    "M = 20\n",
    "for K in range(20, 101, 20):\n",
    "    t2.append(TEST(K, M, 8))\n",
    "    "
   ]
  },
  {
   "cell_type": "code",
   "execution_count": 6,
   "id": "meaningful-disclaimer",
   "metadata": {},
   "outputs": [
    {
     "data": {
      "text/plain": [
       "[[Decimal('2.68'),\n",
       "  Decimal('15030.74'),\n",
       "  Decimal('6297.33'),\n",
       "  Decimal('1300.99')],\n",
       " [Decimal('1.76'),\n",
       "  Decimal('29907.81'),\n",
       "  Decimal('12309.92'),\n",
       "  Decimal('2432.68')],\n",
       " [Decimal('1.70'),\n",
       "  Decimal('44775.25'),\n",
       "  Decimal('18778.92'),\n",
       "  Decimal('3516.88')],\n",
       " [Decimal('1.80'),\n",
       "  Decimal('58912.84'),\n",
       "  Decimal('24541.26'),\n",
       "  Decimal('4599.46')],\n",
       " [Decimal('2.33'),\n",
       "  Decimal('75156.58'),\n",
       "  Decimal('31189.37'),\n",
       "  Decimal('5925.41')]]"
      ]
     },
     "execution_count": 6,
     "metadata": {},
     "output_type": "execute_result"
    }
   ],
   "source": [
    "t1"
   ]
  },
  {
   "cell_type": "code",
   "execution_count": 7,
   "id": "close-singing",
   "metadata": {},
   "outputs": [
    {
     "data": {
      "text/plain": [
       "[[Decimal('5.49'),\n",
       "  Decimal('30260.10'),\n",
       "  Decimal('12882.63'),\n",
       "  Decimal('2654.12')],\n",
       " [Decimal('6.96'),\n",
       "  Decimal('64494.30'),\n",
       "  Decimal('24990.32'),\n",
       "  Decimal('5283.76')],\n",
       " [Decimal('9.11'),\n",
       "  Decimal('90371.09'),\n",
       "  Decimal('36996.43'),\n",
       "  Decimal('7841.12')],\n",
       " [Decimal('11.77'),\n",
       "  Decimal('119487.52'),\n",
       "  Decimal('48743.00'),\n",
       "  Decimal('10332.30')],\n",
       " [Decimal('14.45'),\n",
       "  Decimal('152731.14'),\n",
       "  Decimal('61488.61'),\n",
       "  Decimal('12791.27')]]"
      ]
     },
     "execution_count": 7,
     "metadata": {},
     "output_type": "execute_result"
    }
   ],
   "source": [
    "t2"
   ]
  }
 ],
 "metadata": {
  "kernelspec": {
   "display_name": "Python 3",
   "language": "python",
   "name": "python3"
  },
  "language_info": {
   "codemirror_mode": {
    "name": "ipython",
    "version": 3
   },
   "file_extension": ".py",
   "mimetype": "text/x-python",
   "name": "python",
   "nbconvert_exporter": "python",
   "pygments_lexer": "ipython3",
   "version": "3.9.3"
  }
 },
 "nbformat": 4,
 "nbformat_minor": 5
}
