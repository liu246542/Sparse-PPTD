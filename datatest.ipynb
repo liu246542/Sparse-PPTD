{
 "cells": [
  {
   "cell_type": "code",
   "execution_count": 3,
   "id": "0f70b4c5-aeef-4f58-bdaf-94ede42fc2c1",
   "metadata": {},
   "outputs": [],
   "source": [
    "import numpy as np\n",
    "import random"
   ]
  },
  {
   "cell_type": "code",
   "execution_count": 16,
   "id": "7a57e95f-5639-45fc-94a8-18ea8e21c9f5",
   "metadata": {},
   "outputs": [
    {
     "data": {
      "text/plain": [
       "array([[23.6282676 , 22.88898039, 24.70285245, 23.53554709],\n",
       "       [22.84296829, 22.49311411, 23.7344856 , 24.76732382],\n",
       "       [23.63275492, 24.50759475, 23.72920716, 22.81964215]])"
      ]
     },
     "execution_count": 16,
     "metadata": {},
     "output_type": "execute_result"
    }
   ],
   "source": [
    "np.random.normal(loc = int(random.random() * 100), size = [3,4])"
   ]
  }
 ],
 "metadata": {
  "kernelspec": {
   "display_name": "Python 3",
   "language": "python",
   "name": "python3"
  },
  "language_info": {
   "codemirror_mode": {
    "name": "ipython",
    "version": 3
   },
   "file_extension": ".py",
   "mimetype": "text/x-python",
   "name": "python",
   "nbconvert_exporter": "python",
   "pygments_lexer": "ipython3",
   "version": "3.9.2"
  }
 },
 "nbformat": 4,
 "nbformat_minor": 5
}
