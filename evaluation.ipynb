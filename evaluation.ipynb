{
 "cells": [
  {
   "cell_type": "code",
   "execution_count": 1,
   "id": "plastic-wilderness",
   "metadata": {},
   "outputs": [],
   "source": [
    "import numpy as np"
   ]
  },
  {
   "cell_type": "code",
   "execution_count": 2,
   "id": "persistent-ministry",
   "metadata": {},
   "outputs": [],
   "source": [
    "from utils.SPPTD import SimWorkers, CATD, S0, S1"
   ]
  },
  {
   "cell_type": "code",
   "execution_count": 3,
   "id": "future-milan",
   "metadata": {},
   "outputs": [],
   "source": [
    "vworkers = SimWorkers(5, 6, 8) # K=5, M=6, 稀疏度为 0.8"
   ]
  },
  {
   "cell_type": "code",
   "execution_count": 4,
   "id": "polar-munich",
   "metadata": {},
   "outputs": [],
   "source": [
    "[S0_Data, S1_Data] = vworkers.ss()"
   ]
  },
  {
   "cell_type": "code",
   "execution_count": 5,
   "id": "turkish-denmark",
   "metadata": {},
   "outputs": [],
   "source": [
    "catd1 = CATD(vworkers.PHI, vworkers.XM)"
   ]
  },
  {
   "cell_type": "code",
   "execution_count": 6,
   "id": "announced-experiment",
   "metadata": {},
   "outputs": [],
   "source": [
    "XT_INIT = np.sum(vworkers.XM, axis = 0) / np.sum(vworkers.PHI, axis = 0)"
   ]
  },
  {
   "cell_type": "code",
   "execution_count": 7,
   "id": "generous-glossary",
   "metadata": {},
   "outputs": [
    {
     "name": "stdout",
     "output_type": "stream",
     "text": [
      "[0.03977766 0.02457449 0.00721653 0.08261904 0.02392657]\n"
     ]
    }
   ],
   "source": [
    "wt = catd1.up_weight(XT_INIT)\n",
    "print(wt)"
   ]
  },
  {
   "cell_type": "code",
   "execution_count": 8,
   "id": "broad-polish",
   "metadata": {},
   "outputs": [],
   "source": [
    "xt = catd1.up_truth(wt)"
   ]
  },
  {
   "cell_type": "code",
   "execution_count": 9,
   "id": "fatty-transmission",
   "metadata": {},
   "outputs": [
    {
     "data": {
      "text/plain": [
       "array([4.0129081 , 3.80794781, 1.05300785, 5.11849004, 5.0025962 ,\n",
       "       3.58995003])"
      ]
     },
     "execution_count": 9,
     "metadata": {},
     "output_type": "execute_result"
    }
   ],
   "source": [
    "xt"
   ]
  },
  {
   "cell_type": "code",
   "execution_count": 10,
   "id": "miniature-defeat",
   "metadata": {},
   "outputs": [],
   "source": [
    "s0 = S0(5, 6, *S0_Data)"
   ]
  },
  {
   "cell_type": "code",
   "execution_count": 11,
   "id": "affiliated-insurance",
   "metadata": {},
   "outputs": [],
   "source": [
    "[C0, C_pack1] = s0.pre_up_weight()"
   ]
  },
  {
   "cell_type": "code",
   "execution_count": 12,
   "id": "juvenile-giant",
   "metadata": {},
   "outputs": [],
   "source": [
    "s1 = S1(5, 6, C0, C_pack1, s0.pk, *S1_Data)"
   ]
  },
  {
   "cell_type": "code",
   "execution_count": 13,
   "id": "turkish-strain",
   "metadata": {},
   "outputs": [],
   "source": [
    "C = s1.up_weight(XT_INIT)"
   ]
  },
  {
   "cell_type": "code",
   "execution_count": 14,
   "id": "commercial-mandate",
   "metadata": {},
   "outputs": [],
   "source": [
    "C_pack2 = s0.up_truth(C)"
   ]
  },
  {
   "cell_type": "code",
   "execution_count": 15,
   "id": "fossil-civilization",
   "metadata": {},
   "outputs": [],
   "source": [
    "[C5, C6] = s1.up_truth(C_pack2)"
   ]
  },
  {
   "cell_type": "code",
   "execution_count": 16,
   "id": "outer-botswana",
   "metadata": {},
   "outputs": [
    {
     "data": {
      "text/plain": [
       "[4.012908101693612,\n",
       " 3.807947811627186,\n",
       " 1.053007851369048,\n",
       " 5.1184900436315415,\n",
       " 5.002596196040304,\n",
       " 3.58995003011946]"
      ]
     },
     "execution_count": 16,
     "metadata": {},
     "output_type": "execute_result"
    }
   ],
   "source": [
    "s0.resolve_xt(C5, C6)"
   ]
  },
  {
   "cell_type": "code",
   "execution_count": 17,
   "id": "deadly-lewis",
   "metadata": {},
   "outputs": [
    {
     "data": {
      "text/plain": [
       "array([0.03977766, 0.02457449, 0.00721653, 0.08261904, 0.02392657])"
      ]
     },
     "execution_count": 17,
     "metadata": {},
     "output_type": "execute_result"
    }
   ],
   "source": [
    "s0.tw"
   ]
  },
  {
   "cell_type": "code",
   "execution_count": null,
   "id": "impressive-bracket",
   "metadata": {},
   "outputs": [],
   "source": []
  }
 ],
 "metadata": {
  "kernelspec": {
   "display_name": "Python 3",
   "language": "python",
   "name": "python3"
  },
  "language_info": {
   "codemirror_mode": {
    "name": "ipython",
    "version": 3
   },
   "file_extension": ".py",
   "mimetype": "text/x-python",
   "name": "python",
   "nbconvert_exporter": "python",
   "pygments_lexer": "ipython3",
   "version": "3.9.2"
  }
 },
 "nbformat": 4,
 "nbformat_minor": 5
}
