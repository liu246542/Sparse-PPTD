{
 "cells": [
  {
   "cell_type": "code",
   "execution_count": 1,
   "id": "plastic-wilderness",
   "metadata": {},
   "outputs": [],
   "source": [
    "import numpy as np\n",
    "import random"
   ]
  },
  {
   "cell_type": "code",
   "execution_count": 2,
   "id": "persistent-ministry",
   "metadata": {},
   "outputs": [],
   "source": [
    "from utils.SPPTD import SimWorkers, CATD, S0, S1"
   ]
  },
  {
   "cell_type": "code",
   "execution_count": 3,
   "id": "167cdd07-dc5d-454c-bd6d-b63544ed1f2c",
   "metadata": {},
   "outputs": [],
   "source": [
    "K = 10; M = 20; S = 8 # K=5, M=6, 稀疏度为 0.8"
   ]
  },
  {
   "cell_type": "code",
   "execution_count": 4,
   "id": "future-milan",
   "metadata": {},
   "outputs": [],
   "source": [
    "ground_truth = [int(random.random() * 100) for m in range(M)]\n",
    "vw = SimWorkers(K, M, S, ground_truth) "
   ]
  },
  {
   "cell_type": "code",
   "execution_count": 5,
   "id": "f7168470-c2be-4943-a305-cd66275a52d1",
   "metadata": {},
   "outputs": [],
   "source": [
    "catd = CATD(vw.PHI, vw.XM)"
   ]
  },
  {
   "cell_type": "code",
   "execution_count": 6,
   "id": "abf49259-f770-4cfc-a0a5-059b2c4f675b",
   "metadata": {},
   "outputs": [
    {
     "data": {
      "text/plain": [
       "array([45.59915243, 86.5250688 , 51.72483289, 33.7721162 , -0.65399727,\n",
       "       10.93059635, 34.89399791, 84.87371728,  5.36564638, 24.40217524,\n",
       "       14.59256069,  1.07740318, 90.84560628, 99.99182763, 86.7553112 ,\n",
       "       54.27433349,  4.62641752, 81.05279594, 71.38827323, 57.47356611])"
      ]
     },
     "execution_count": 6,
     "metadata": {},
     "output_type": "execute_result"
    }
   ],
   "source": [
    "init_truth = [int(random.random() * 100) for m in range(M)]\n",
    "w = catd.up_weight(init_truth)\n",
    "x = catd.up_truth(w)\n",
    "x"
   ]
  },
  {
   "cell_type": "code",
   "execution_count": 7,
   "id": "514bb763-2d92-4ada-9414-bd76a8062c84",
   "metadata": {},
   "outputs": [],
   "source": [
    "[S0_Data, S1_Data] = vw.ss()\n",
    "s0 = S0(K, M, *S0_Data)\n",
    "[C0, C_pack1] = s0.pre_up_weight()\n",
    "s1 = S1(K, M, C0, C_pack1, s0.pk, *S1_Data)"
   ]
  },
  {
   "cell_type": "code",
   "execution_count": 9,
   "id": "5fb56b06-e068-4593-9195-69867c736c77",
   "metadata": {},
   "outputs": [
    {
     "data": {
      "text/plain": [
       "[45.59915242978954,\n",
       " 86.52506879956985,\n",
       " 51.72483288585167,\n",
       " 33.77211620458411,\n",
       " -0.6539972727863098,\n",
       " 10.93059634642969,\n",
       " 34.89399790696945,\n",
       " 84.87371728200782,\n",
       " 5.365646380553647,\n",
       " 24.4021752367977,\n",
       " 14.592560692553599,\n",
       " 1.07740317987729,\n",
       " 90.84560628175703,\n",
       " 99.99182762512456,\n",
       " 86.7553111970517,\n",
       " 54.27433348536365,\n",
       " 4.626417524743876,\n",
       " 81.05279594122034,\n",
       " 71.38827323488589,\n",
       " 57.47356610642552]"
      ]
     },
     "execution_count": 9,
     "metadata": {},
     "output_type": "execute_result"
    }
   ],
   "source": [
    "C= s1.up_weight(init_truth)\n",
    "C_pack2 = s0.up_truth(C)\n",
    "[C5, C6] = s1.up_truth(C_pack2)\n",
    "x = s0.resolve_xt(C5, C6)\n",
    "x"
   ]
  },
  {
   "cell_type": "code",
   "execution_count": 39,
   "id": "polar-munich",
   "metadata": {},
   "outputs": [],
   "source": [
    "[S0_Data, S1_Data] = vworkers.ss()"
   ]
  },
  {
   "cell_type": "code",
   "execution_count": 40,
   "id": "turkish-denmark",
   "metadata": {},
   "outputs": [],
   "source": [
    "catd1 = CATD(vworkers.PHI, vworkers.XM)"
   ]
  },
  {
   "cell_type": "code",
   "execution_count": 41,
   "id": "announced-experiment",
   "metadata": {},
   "outputs": [],
   "source": [
    "XT_INIT = np.sum(vworkers.XM, axis = 0) / np.sum(vworkers.PHI, axis = 0)"
   ]
  },
  {
   "cell_type": "code",
   "execution_count": 42,
   "id": "generous-glossary",
   "metadata": {},
   "outputs": [],
   "source": [
    "wt = catd1.up_weight(XT_INIT)"
   ]
  },
  {
   "cell_type": "code",
   "execution_count": 43,
   "id": "broad-polish",
   "metadata": {},
   "outputs": [],
   "source": [
    "xt = catd1.up_truth(wt)"
   ]
  },
  {
   "cell_type": "code",
   "execution_count": 44,
   "id": "fatty-transmission",
   "metadata": {},
   "outputs": [
    {
     "data": {
      "text/plain": [
       "array([3.07820079, 5.54750389, 6.500574  , 2.44242236, 6.45727614,\n",
       "       5.31608505, 6.59810302, 4.65424181, 4.28795342, 3.75318975,\n",
       "       5.15275136, 5.56087526, 2.70235992, 5.49472647, 4.48717828,\n",
       "       5.83697783, 5.45087956, 4.05908218, 4.13124139, 5.00965183])"
      ]
     },
     "execution_count": 44,
     "metadata": {},
     "output_type": "execute_result"
    }
   ],
   "source": [
    "xt"
   ]
  },
  {
   "cell_type": "code",
   "execution_count": 45,
   "id": "miniature-defeat",
   "metadata": {},
   "outputs": [],
   "source": [
    "s0 = S0(K, M, *S0_Data)"
   ]
  },
  {
   "cell_type": "code",
   "execution_count": 46,
   "id": "affiliated-insurance",
   "metadata": {},
   "outputs": [],
   "source": [
    "[C0, C_pack1] = s0.pre_up_weight()"
   ]
  },
  {
   "cell_type": "code",
   "execution_count": 47,
   "id": "juvenile-giant",
   "metadata": {},
   "outputs": [],
   "source": [
    "s1 = S1(K, M, C0, C_pack1, s0.pk, *S1_Data)"
   ]
  },
  {
   "cell_type": "code",
   "execution_count": 48,
   "id": "turkish-strain",
   "metadata": {},
   "outputs": [],
   "source": [
    "C = s1.up_weight(XT_INIT)"
   ]
  },
  {
   "cell_type": "code",
   "execution_count": 49,
   "id": "commercial-mandate",
   "metadata": {},
   "outputs": [],
   "source": [
    "C_pack2 = s0.up_truth(C)"
   ]
  },
  {
   "cell_type": "code",
   "execution_count": 50,
   "id": "fossil-civilization",
   "metadata": {},
   "outputs": [],
   "source": [
    "[C5, C6] = s1.up_truth(C_pack2)"
   ]
  },
  {
   "cell_type": "code",
   "execution_count": 51,
   "id": "outer-botswana",
   "metadata": {},
   "outputs": [
    {
     "data": {
      "text/plain": [
       "[3.0782007901326907,\n",
       " 5.547503891755521,\n",
       " 6.500574004436978,\n",
       " 2.442422360653072,\n",
       " 6.457276139717385,\n",
       " 5.316085053635207,\n",
       " 6.598103023348871,\n",
       " 4.654241806395659,\n",
       " 4.287953419889066,\n",
       " 3.753189746451786,\n",
       " 5.152751362450301,\n",
       " 5.5608752557822,\n",
       " 2.7023599213816447,\n",
       " 5.4947264701420515,\n",
       " 4.487178279144003,\n",
       " 5.836977825750373,\n",
       " 5.450879555716437,\n",
       " 4.059082181866363,\n",
       " 4.131241394639774,\n",
       " 5.009651833940915]"
      ]
     },
     "execution_count": 51,
     "metadata": {},
     "output_type": "execute_result"
    }
   ],
   "source": [
    "s0.resolve_xt(C5, C6)"
   ]
  },
  {
   "cell_type": "code",
   "execution_count": null,
   "id": "17d07764-687a-4176-a45c-c11d116656d5",
   "metadata": {},
   "outputs": [],
   "source": []
  }
 ],
 "metadata": {
  "kernelspec": {
   "display_name": "Python 3",
   "language": "python",
   "name": "python3"
  },
  "language_info": {
   "codemirror_mode": {
    "name": "ipython",
    "version": 3
   },
   "file_extension": ".py",
   "mimetype": "text/x-python",
   "name": "python",
   "nbconvert_exporter": "python",
   "pygments_lexer": "ipython3",
   "version": "3.9.2"
  }
 },
 "nbformat": 4,
 "nbformat_minor": 5
}
