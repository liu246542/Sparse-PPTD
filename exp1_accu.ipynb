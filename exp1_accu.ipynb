{
 "cells": [
  {
   "cell_type": "code",
   "execution_count": 7,
   "id": "incoming-integration",
   "metadata": {},
   "outputs": [],
   "source": [
    "# !! 实验现场，注意安全\n",
    "# 测试内容： Accuracy\n",
    "# 固定 M = 20, K: [4, 10], S: [4, 8]\n",
    "import numpy as np\n",
    "import random\n",
    "from utils.SPPTD import SimWorkers, CATD, S0, S1"
   ]
  },
  {
   "cell_type": "code",
   "execution_count": 8,
   "id": "convinced-profession",
   "metadata": {},
   "outputs": [],
   "source": [
    "def RMSE(e_x, t_x):\n",
    "    mse = (np.sum((np.array(e_x) - np.array(t_x)) ** 2)) / M\n",
    "    return mse ** 0.5"
   ]
  },
  {
   "cell_type": "code",
   "execution_count": 11,
   "id": "musical-identity",
   "metadata": {},
   "outputs": [],
   "source": [
    "def TEST(K, M, S):\n",
    "    res = [[], []]\n",
    "    ground_truth = [int(random.random() * 100) for m in range(M)]\n",
    "    vw = SimWorkers(K, M, S, ground_truth)\n",
    "    [S0_Data, S1_Data] = vw.ss()\n",
    "    catd = CATD(vw.PHI, vw.XM)\n",
    "    init_truth = [int(random.random() * 100) for m in range(M)]\n",
    "    x = init_truth\n",
    "    for i in range(3):\n",
    "        w = catd.up_weight(x)\n",
    "        x = catd.up_truth(w)\n",
    "    res1 = RMSE(x, ground_truth)\n",
    "    s0 = S0(K, M, *S0_Data)\n",
    "    [C0, C_pack1] = s0.pre_up_weight()\n",
    "    s1 = S1(K, M, C0, C_pack1, s0.pk, *S1_Data)\n",
    "    x = init_truth\n",
    "    for i in range(3):\n",
    "        C = s1.up_weight(x)\n",
    "        C_pack2 = s0.up_truth(C)\n",
    "        [C5, C6] = s1.up_truth(C_pack2)\n",
    "        x = s0.resolve_xt(C5, C6)\n",
    "    res2 = RMSE(x, ground_truth)\n",
    "    return [res1, res2]"
   ]
  },
  {
   "cell_type": "code",
   "execution_count": 4,
   "id": "identical-rider",
   "metadata": {},
   "outputs": [
    {
     "name": "stdout",
     "output_type": "stream",
     "text": [
      "[[2.10932198 1.56427725 1.47483613 1.65492491 1.08917389 1.35215479]\n",
      " [2.10932198 1.56427725 1.47483613 1.65492491 1.08917389 1.35215479]]\n"
     ]
    }
   ],
   "source": [
    "# 设定 workers 数量， objects 数量，以及稀疏度\n",
    "M = 20; S = 4\n",
    "# T = 3\n",
    "time1 = [[[], []], [[], []], [[], []]]\n",
    "for t in range(3):\n",
    "    for K in range(5, 11):\n",
    "        [res1, res2] = TEST(K, M, S)\n",
    "        time1[t][0].append(res1)\n",
    "        time1[t][1].append(res2)\n",
    "print((np.array(time1[0]) + np.array(time1[1]) + np.array(time1[2])) / 3)"
   ]
  },
  {
   "cell_type": "code",
   "execution_count": 5,
   "id": "binding-orbit",
   "metadata": {},
   "outputs": [
    {
     "name": "stdout",
     "output_type": "stream",
     "text": [
      "[[1.64880631 1.26675877 1.41619916 1.05010103 0.9692497  1.11580332]\n",
      " [1.64880631 1.26675877 1.41619916 1.05010103 0.9692497  1.11580332]]\n"
     ]
    }
   ],
   "source": [
    "# 设定 workers 数量， objects 数量，以及稀疏度\n",
    "M = 20; S = 6\n",
    "time2 = [[[], []], [[], []], [[], []]]\n",
    "for t in range(3):\n",
    "    for K in range(5, 11):\n",
    "        [res1, res2] = TEST(K, M, S)\n",
    "        time2[t][0].append(res1)\n",
    "        time2[t][1].append(res2)\n",
    "print((np.array(time2[0]) + np.array(time2[1]) + np.array(time2[2])) / 3)"
   ]
  },
  {
   "cell_type": "code",
   "execution_count": 6,
   "id": "billion-advocate",
   "metadata": {},
   "outputs": [
    {
     "name": "stdout",
     "output_type": "stream",
     "text": [
      "[[1.14216401 1.17892883 1.1510717  0.81211172 0.73967593 0.71549794]\n",
      " [1.14216401 1.17892883 1.1510717  0.81211172 0.73967593 0.71549794]]\n"
     ]
    }
   ],
   "source": [
    "# 设定 workers 数量， objects 数量，以及稀疏度\n",
    "M = 20; S = 8\n",
    "time3 = [[[], []], [[], []], [[], []]]\n",
    "for t in range(3):\n",
    "    for K in range(5, 11):\n",
    "        [res1, res2] = TEST(K, M, S)\n",
    "        time3[t][0].append(res1)\n",
    "        time3[t][1].append(res2)\n",
    "print((np.array(time3[0]) + np.array(time3[1]) + np.array(time3[2])) / 3)"
   ]
  },
  {
   "cell_type": "code",
   "execution_count": 12,
   "id": "emerging-milwaukee",
   "metadata": {},
   "outputs": [
    {
     "name": "stdout",
     "output_type": "stream",
     "text": [
      "[[1.0569453  0.76821125 0.57528271 0.58965629 0.51362287]\n",
      " [1.0569453  0.76821125 0.57528271 0.58965629 0.51362287]]\n"
     ]
    }
   ],
   "source": [
    "# 设定 workers 数量， objects 数量，以及稀疏度\n",
    "M = 20; S = 8\n",
    "time3 = [[[], []], [[], []], [[], []]]\n",
    "for t in range(3):\n",
    "    for K in range(5, 26, 5):\n",
    "        [res1, res2] = TEST(K, M, S)\n",
    "        time3[t][0].append(res1)\n",
    "        time3[t][1].append(res2)\n",
    "print((np.array(time3[0]) + np.array(time3[1]) + np.array(time3[2])) / 3)"
   ]
  },
  {
   "cell_type": "code",
   "execution_count": 13,
   "id": "charitable-diamond",
   "metadata": {},
   "outputs": [
    {
     "name": "stdout",
     "output_type": "stream",
     "text": [
      "[[1.35062592 1.09802551 0.81992735 0.59096782 0.58860828]\n",
      " [1.35062592 1.09802551 0.81992735 0.59096782 0.58860828]]\n"
     ]
    }
   ],
   "source": [
    "# 设定 workers 数量， objects 数量，以及稀疏度\n",
    "M = 20; S = 6\n",
    "time3 = [[[], []], [[], []], [[], []]]\n",
    "for t in range(3):\n",
    "    for K in range(5, 26, 5):\n",
    "        [res1, res2] = TEST(K, M, S)\n",
    "        time3[t][0].append(res1)\n",
    "        time3[t][1].append(res2)\n",
    "print((np.array(time3[0]) + np.array(time3[1]) + np.array(time3[2])) / 3)"
   ]
  },
  {
   "cell_type": "code",
   "execution_count": 14,
   "id": "future-drill",
   "metadata": {},
   "outputs": [
    {
     "name": "stdout",
     "output_type": "stream",
     "text": [
      "[[1.74746358 1.54445824 0.80215272 0.7413175  0.75015319]\n",
      " [1.74746358 1.54445824 0.80215272 0.7413175  0.75015319]]\n"
     ]
    }
   ],
   "source": [
    "# 设定 workers 数量， objects 数量，以及稀疏度\n",
    "M = 20; S = 4\n",
    "time3 = [[[], []], [[], []], [[], []]]\n",
    "for t in range(3):\n",
    "    for K in range(5, 26, 5):\n",
    "        [res1, res2] = TEST(K, M, S)\n",
    "        time3[t][0].append(res1)\n",
    "        time3[t][1].append(res2)\n",
    "print((np.array(time3[0]) + np.array(time3[1]) + np.array(time3[2])) / 3)"
   ]
  },
  {
   "cell_type": "code",
   "execution_count": null,
   "id": "ahead-associate",
   "metadata": {},
   "outputs": [],
   "source": []
  }
 ],
 "metadata": {
  "kernelspec": {
   "display_name": "Python 3",
   "language": "python",
   "name": "python3"
  },
  "language_info": {
   "codemirror_mode": {
    "name": "ipython",
    "version": 3
   },
   "file_extension": ".py",
   "mimetype": "text/x-python",
   "name": "python",
   "nbconvert_exporter": "python",
   "pygments_lexer": "ipython3",
   "version": "3.9.2"
  }
 },
 "nbformat": 4,
 "nbformat_minor": 5
}
