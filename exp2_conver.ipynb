{
 "cells": [
  {
   "cell_type": "code",
   "execution_count": 6,
   "id": "criminal-approach",
   "metadata": {},
   "outputs": [],
   "source": [
    "# !! 实验现场，注意安全\n",
    "# 测试内容： Accuracy\n",
    "# 固定 M = 20, K: [4, 10], S: [4, 8]\n",
    "import numpy as np\n",
    "import random\n",
    "from utils.SPPTD import SimWorkers, CATD, S0, S1"
   ]
  },
  {
   "cell_type": "code",
   "execution_count": 7,
   "id": "resident-proposal",
   "metadata": {},
   "outputs": [],
   "source": [
    "def TEST(K, M, S):\n",
    "    res = [[], []]\n",
    "    ground_truth = [int(random.random() * 100) for m in range(M)]\n",
    "    vw = SimWorkers(K, M, S, ground_truth)\n",
    "    [S0_Data, S1_Data] = vw.ss()\n",
    "    catd = CATD(vw.PHI, vw.XM)\n",
    "    init_truth = [int(random.random() * 100) for m in range(M)]\n",
    "    x = init_truth\n",
    "    for i in range(10):\n",
    "        x0 = x\n",
    "        w = catd.up_weight(x)\n",
    "        x = catd.up_truth(w)\n",
    "        res[0].append(np.sum((np.array(x) - np.array(x0)) ** 2))\n",
    "#     res1 = RMSE(x, ground_truth)\n",
    "    s0 = S0(K, M, *S0_Data)\n",
    "    [C0, C_pack1] = s0.pre_up_weight()\n",
    "    s1 = S1(K, M, C0, C_pack1, s0.pk, *S1_Data)\n",
    "    x = init_truth\n",
    "    for i in range(10):\n",
    "        x0 = x\n",
    "        C = s1.up_weight(x)\n",
    "        C_pack2 = s0.up_truth(C)\n",
    "        [C5, C6] = s1.up_truth(C_pack2)\n",
    "        x = s0.resolve_xt(C5, C6)\n",
    "        res[1].append(np.sum((np.array(x) - np.array(x0)) ** 2))\n",
    "#     res2 = RMSE(x, ground_truth)\n",
    "    return res"
   ]
  },
  {
   "cell_type": "code",
   "execution_count": 8,
   "id": "adjusted-capitol",
   "metadata": {},
   "outputs": [
    {
     "name": "stdout",
     "output_type": "stream",
     "text": [
      "[[15003.462165853907, 0.43820883420182044, 0.06306417657486173, 0.017965544261910663, 0.006928563969441507, 0.0030239332560795273, 0.0013911478943514895, 0.000655970933386445, 0.00031325020472702466, 0.00015064083078754256], [15003.462165853909, 0.4382088342018238, 0.06306417657486156, 0.017965544261903856, 0.0069285639694452355, 0.003023933256082602, 0.0013911478943526403, 0.0006559709333829147, 0.00031325020472855767, 0.00015064083078616258]]\n"
     ]
    }
   ],
   "source": [
    "# 设定 workers 数量， objects 数量，以及稀疏度\n",
    "M = 10; S = 8\n",
    "K = 20\n",
    "print(TEST(K, M, S))"
   ]
  },
  {
   "cell_type": "code",
   "execution_count": 9,
   "id": "alleged-undergraduate",
   "metadata": {},
   "outputs": [
    {
     "name": "stdout",
     "output_type": "stream",
     "text": [
      "[[16247.560354120425, 1.0619161533407906, 0.5336698103365198, 0.23664200190760085, 0.07982068153571695, 0.025268538846424722, 0.010290476434359094, 0.008496442872871181, 0.012274333663429986, 0.01881894436997571], [16247.560354120424, 1.0619161533407673, 0.5336698103365088, 0.2366420019075339, 0.07982068153569297, 0.02526853884637048, 0.010290476434443785, 0.008496442872833097, 0.012274333663344076, 0.018818944370023318]]\n"
     ]
    }
   ],
   "source": [
    "# 设定 workers 数量， objects 数量，以及稀疏度\n",
    "M = 10; S = 6\n",
    "K = 20\n",
    "print(TEST(K, M, S))"
   ]
  },
  {
   "cell_type": "code",
   "execution_count": 10,
   "id": "victorian-hygiene",
   "metadata": {},
   "outputs": [
    {
     "name": "stdout",
     "output_type": "stream",
     "text": [
      "[[19118.507582855324, 0.8424452211279847, 0.32911827116186687, 0.35945329304084256, 0.4876968886299904, 0.5783461037533925, 0.36936099083958646, 0.1358101871090378, 0.037498731244220464, 0.009400418466661046], [19118.50758285533, 0.8424452211279858, 0.32911827116186887, 0.35945329304094553, 0.48769688863009153, 0.5783461037534474, 0.3693609908393472, 0.13581018710671044, 0.037498729301272495, 0.020787526625543458]]\n"
     ]
    }
   ],
   "source": [
    "# 设定 workers 数量， objects 数量，以及稀疏度\n",
    "M = 10; S = 4\n",
    "K = 20\n",
    "print(TEST(K, M, S))"
   ]
  },
  {
   "cell_type": "code",
   "execution_count": 5,
   "id": "alpha-directive",
   "metadata": {},
   "outputs": [
    {
     "name": "stdout",
     "output_type": "stream",
     "text": [
      "[[1.4535625  1.168124   1.31382401 1.31112801 1.39539005 0.87449351]\n",
      " [1.4535625  1.168124   1.31382401 1.31112801 1.39539005 0.87449351]]\n"
     ]
    }
   ],
   "source": [
    "# 设定 workers 数量， objects 数量，以及稀疏度\n",
    "M = 10; S = 6\n",
    "time2 = [[[], []], [[], []], [[], []]]\n",
    "for t in range(3):\n",
    "    for K in range(5, 11):\n",
    "        [res1, res2] = TEST(K, M, S)\n",
    "        time2[t][0].append(res1)\n",
    "        time2[t][1].append(res2)\n",
    "print((np.array(time2[0]) + np.array(time2[1]) + np.array(time2[2])) / 3)"
   ]
  },
  {
   "cell_type": "code",
   "execution_count": 6,
   "id": "fifth-plumbing",
   "metadata": {},
   "outputs": [
    {
     "name": "stdout",
     "output_type": "stream",
     "text": [
      "[[1.40237003 1.25430579 0.91898025 1.00437945 0.99632894 0.8322668 ]\n",
      " [1.40237003 1.25430579 0.91898025 1.00437945 0.99632894 0.8322668 ]]\n"
     ]
    }
   ],
   "source": [
    "# 设定 workers 数量， objects 数量，以及稀疏度\n",
    "M = 10; S = 8\n",
    "time3 = [[[], []], [[], []], [[], []]]\n",
    "for t in range(3):\n",
    "    for K in range(5, 11):\n",
    "        [res1, res2] = TEST(K, M, S)\n",
    "        time3[t][0].append(res1)\n",
    "        time3[t][1].append(res2)\n",
    "print((np.array(time3[0]) + np.array(time3[1]) + np.array(time3[2])) / 3)"
   ]
  },
  {
   "cell_type": "code",
   "execution_count": 7,
   "id": "sunset-supervision",
   "metadata": {},
   "outputs": [
    {
     "name": "stderr",
     "output_type": "stream",
     "text": [
      "/home/liu/git_repo/SPPTD_TEST/utils/SPPTD.py:55: RuntimeWarning: divide by zero encountered in true_divide\n",
      "  W = Y / np.sum(self.PHI * (self.XM - XT) ** 2, axis = 1)\n",
      "/home/liu/git_repo/SPPTD_TEST/utils/SPPTD.py:58: RuntimeWarning: invalid value encountered in true_divide\n",
      "  XT = np.dot(W, self.XM) / np.dot(W, self.PHI)\n"
     ]
    },
    {
     "name": "stdout",
     "output_type": "stream",
     "text": [
      "[[2.04189774        nan 1.69957687 1.50306373 1.27538657 1.5802012 ]\n",
      " [2.04189774 1.47805562 1.69957687 1.50306373 1.27538657 1.5802012 ]]\n"
     ]
    }
   ],
   "source": [
    "# 设定 workers 数量， objects 数量，以及稀疏度\n",
    "M = 10; S = 4\n",
    "time4 = [[[], []], [[], []], [[], []]]\n",
    "for t in range(3):\n",
    "    for K in range(5, 11):\n",
    "        [res1, res2] = TEST(K, M, S)\n",
    "        time4[t][0].append(res1)\n",
    "        time4[t][1].append(res2)\n",
    "print((np.array(time4[0]) + np.array(time4[1]) + np.array(time4[2])) / 3)"
   ]
  },
  {
   "cell_type": "code",
   "execution_count": null,
   "id": "documentary-disability",
   "metadata": {},
   "outputs": [],
   "source": []
  }
 ],
 "metadata": {
  "kernelspec": {
   "display_name": "Python 3",
   "language": "python",
   "name": "python3"
  },
  "language_info": {
   "codemirror_mode": {
    "name": "ipython",
    "version": 3
   },
   "file_extension": ".py",
   "mimetype": "text/x-python",
   "name": "python",
   "nbconvert_exporter": "python",
   "pygments_lexer": "ipython3",
   "version": "3.9.3"
  }
 },
 "nbformat": 4,
 "nbformat_minor": 5
}
