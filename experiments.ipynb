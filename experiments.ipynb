{
 "cells": [
  {
   "cell_type": "code",
   "execution_count": 1,
   "id": "wired-archive",
   "metadata": {},
   "outputs": [],
   "source": [
    "# !! 实验现场，注意安全\n",
    "# 测试内容： Accuracy\n",
    "# 固定 M = 20, K: [4, 10], S: [4, 8]\n",
    "import numpy as np\n",
    "import random\n",
    "from utils.SPPTD import SimWorkers, CATD, S0, S1"
   ]
  },
  {
   "cell_type": "code",
   "execution_count": 2,
   "id": "patent-pennsylvania",
   "metadata": {},
   "outputs": [],
   "source": [
    "def RMSE(e_x, t_x):\n",
    "    mse = (np.sum((np.array(e_x) - np.array(t_x)) ** 2)) / M\n",
    "    return mse ** 0.5"
   ]
  },
  {
   "cell_type": "code",
   "execution_count": 3,
   "id": "optical-employee",
   "metadata": {},
   "outputs": [],
   "source": [
    "def TEST(K, M, S):\n",
    "    res = [[], []]\n",
    "    ground_truth = [int(random.random() * 100) for m in range(M)]\n",
    "    vw = SimWorkers(K, M, S, ground_truth)\n",
    "    [S0_Data, S1_Data] = vw.ss()\n",
    "    catd = CATD(vw.PHI, vw.XM)\n",
    "    init_truth = [int(random.random() * 100) for m in range(M)]\n",
    "    x = init_truth\n",
    "    for i in range(4):\n",
    "        w = catd.up_weight(x)\n",
    "        x = catd.up_truth(w)\n",
    "    res1 = RMSE(x, ground_truth)\n",
    "    s0 = S0(K, M, *S0_Data)\n",
    "    [C0, C_pack1] = s0.pre_up_weight()\n",
    "    s1 = S1(K, M, C0, C_pack1, s0.pk, *S1_Data)\n",
    "    x = init_truth\n",
    "    for i in range(4):\n",
    "        C = s1.up_weight(x)\n",
    "        C_pack2 = s0.up_truth(C)\n",
    "        [C5, C6] = s1.up_truth(C_pack2)\n",
    "        x = s0.resolve_xt(C5, C6)\n",
    "    res2 = RMSE(x, ground_truth)\n",
    "    return [res1, res2]"
   ]
  },
  {
   "cell_type": "code",
   "execution_count": 4,
   "id": "junior-monaco",
   "metadata": {},
   "outputs": [
    {
     "name": "stdout",
     "output_type": "stream",
     "text": [
      "[[1.34503202 1.11532687 0.88241602 0.85073516 0.94509463 0.76737024]\n",
      " [1.34503202 1.11532687 0.88241602 0.85073516 0.94509463 0.76737024]]\n"
     ]
    }
   ],
   "source": [
    "# 设定 workers 数量， objects 数量，以及稀疏度\n",
    "M = 10; S = 8\n",
    "# T = 3\n",
    "time1 = [[[], []], [[], []], [[], []]]\n",
    "for t in range(3):\n",
    "    for K in range(5, 11):\n",
    "        [res1, res2] = TEST(K, M, S)\n",
    "        time1[t][0].append(res1)\n",
    "        time1[t][1].append(res2)\n",
    "print((np.array(time1[0]) + np.array(time1[1]) + np.array(time1[2])) / 3)"
   ]
  },
  {
   "cell_type": "code",
   "execution_count": 5,
   "id": "unexpected-forty",
   "metadata": {},
   "outputs": [
    {
     "name": "stdout",
     "output_type": "stream",
     "text": [
      "[[1.4535625  1.168124   1.31382401 1.31112801 1.39539005 0.87449351]\n",
      " [1.4535625  1.168124   1.31382401 1.31112801 1.39539005 0.87449351]]\n"
     ]
    }
   ],
   "source": [
    "# 设定 workers 数量， objects 数量，以及稀疏度\n",
    "M = 10; S = 6\n",
    "time2 = [[[], []], [[], []], [[], []]]\n",
    "for t in range(3):\n",
    "    for K in range(5, 11):\n",
    "        [res1, res2] = TEST(K, M, S)\n",
    "        time2[t][0].append(res1)\n",
    "        time2[t][1].append(res2)\n",
    "print((np.array(time2[0]) + np.array(time2[1]) + np.array(time2[2])) / 3)"
   ]
  },
  {
   "cell_type": "code",
   "execution_count": 6,
   "id": "advisory-scene",
   "metadata": {},
   "outputs": [
    {
     "name": "stdout",
     "output_type": "stream",
     "text": [
      "[[1.40237003 1.25430579 0.91898025 1.00437945 0.99632894 0.8322668 ]\n",
      " [1.40237003 1.25430579 0.91898025 1.00437945 0.99632894 0.8322668 ]]\n"
     ]
    }
   ],
   "source": [
    "# 设定 workers 数量， objects 数量，以及稀疏度\n",
    "M = 10; S = 8\n",
    "time3 = [[[], []], [[], []], [[], []]]\n",
    "for t in range(3):\n",
    "    for K in range(5, 11):\n",
    "        [res1, res2] = TEST(K, M, S)\n",
    "        time3[t][0].append(res1)\n",
    "        time3[t][1].append(res2)\n",
    "print((np.array(time3[0]) + np.array(time3[1]) + np.array(time3[2])) / 3)"
   ]
  },
  {
   "cell_type": "code",
   "execution_count": 7,
   "id": "labeled-terminal",
   "metadata": {},
   "outputs": [
    {
     "name": "stderr",
     "output_type": "stream",
     "text": [
      "/home/liu/git_repo/SPPTD_TEST/utils/SPPTD.py:55: RuntimeWarning: divide by zero encountered in true_divide\n",
      "  W = Y / np.sum(self.PHI * (self.XM - XT) ** 2, axis = 1)\n",
      "/home/liu/git_repo/SPPTD_TEST/utils/SPPTD.py:58: RuntimeWarning: invalid value encountered in true_divide\n",
      "  XT = np.dot(W, self.XM) / np.dot(W, self.PHI)\n"
     ]
    },
    {
     "name": "stdout",
     "output_type": "stream",
     "text": [
      "[[2.04189774        nan 1.69957687 1.50306373 1.27538657 1.5802012 ]\n",
      " [2.04189774 1.47805562 1.69957687 1.50306373 1.27538657 1.5802012 ]]\n"
     ]
    }
   ],
   "source": [
    "# 设定 workers 数量， objects 数量，以及稀疏度\n",
    "M = 10; S = 4\n",
    "time4 = [[[], []], [[], []], [[], []]]\n",
    "for t in range(3):\n",
    "    for K in range(5, 11):\n",
    "        [res1, res2] = TEST(K, M, S)\n",
    "        time4[t][0].append(res1)\n",
    "        time4[t][1].append(res2)\n",
    "print((np.array(time4[0]) + np.array(time4[1]) + np.array(time4[2])) / 3)"
   ]
  },
  {
   "cell_type": "code",
   "execution_count": null,
   "id": "static-rocket",
   "metadata": {},
   "outputs": [],
   "source": []
  }
 ],
 "metadata": {
  "kernelspec": {
   "display_name": "Python 3",
   "language": "python",
   "name": "python3"
  },
  "language_info": {
   "codemirror_mode": {
    "name": "ipython",
    "version": 3
   },
   "file_extension": ".py",
   "mimetype": "text/x-python",
   "name": "python",
   "nbconvert_exporter": "python",
   "pygments_lexer": "ipython3",
   "version": "3.9.3"
  }
 },
 "nbformat": 4,
 "nbformat_minor": 5
}
