{
 "cells": [
  {
   "cell_type": "code",
   "execution_count": 1,
   "id": "arbitrary-sweet",
   "metadata": {},
   "outputs": [],
   "source": [
    "from phe import paillier\n",
    "import random, scipy.stats\n",
    "import numpy as np"
   ]
  },
  {
   "cell_type": "code",
   "execution_count": 2,
   "id": "future-allocation",
   "metadata": {},
   "outputs": [],
   "source": [
    "# Global 参数\n",
    "# 设定 workers 数量， objects 数量， 稀疏度\n",
    "K = 6; M = 5; S = 5"
   ]
  },
  {
   "cell_type": "code",
   "execution_count": 3,
   "id": "dynamic-atlas",
   "metadata": {},
   "outputs": [],
   "source": [
    "# 初始化数据\n",
    "XM = np.zeros([K, M])\n",
    "PHI = np.zeros([K, M])\n",
    "SPL = [1] * S + [0] * (10 - S)\n",
    "pk, sk = paillier.generate_paillier_keypair()"
   ]
  },
  {
   "cell_type": "code",
   "execution_count": 4,
   "id": "clear-coach",
   "metadata": {},
   "outputs": [],
   "source": [
    "# 随机生成每个 worker 的标记向量\n",
    "for k in range(K):\n",
    "    PHI[k] = [random.choice(SPL) for m in range(M)]\n",
    "for i,j in zip(np.sum(PHI, axis = 0), np.sum(PHI, axis = 1)):\n",
    "    assert i >0 and j > 0 # 确保每个 object 至少有一个 worker 提交"
   ]
  },
  {
   "cell_type": "code",
   "execution_count": 5,
   "id": "meaning-little",
   "metadata": {},
   "outputs": [],
   "source": [
    "# 随机生成每个 worker 的 sensory data\n",
    "for k in range(K):\n",
    "    for m in range(M):\n",
    "        XM[k][m] = PHI[k][m] * round((random.random()) * 10, 2) # 随机在 [0,10) 之间取值"
   ]
  },
  {
   "cell_type": "code",
   "execution_count": 6,
   "id": "damaged-deadline",
   "metadata": {},
   "outputs": [],
   "source": [
    "def catd_weight_update(PHI, XM, XT):\n",
    "    Y = np.array([scipy.stats.chi2.ppf(0.05, k) for k in np.sum(PHI, axis = 1)])\n",
    "    W = Y / np.sum(PHI * (XM - XT) ** 2, axis = 1)\n",
    "    return W"
   ]
  },
  {
   "cell_type": "code",
   "execution_count": 7,
   "id": "monthly-child",
   "metadata": {},
   "outputs": [],
   "source": [
    "def catd_truth_update(PHI, XM, W):\n",
    "    XT = np.dot(W, XM) / np.dot(W, PHI)\n",
    "    return XT"
   ]
  },
  {
   "cell_type": "code",
   "execution_count": 8,
   "id": "commercial-antique",
   "metadata": {},
   "outputs": [],
   "source": [
    "# Y = np.array([scipy.stats.chi2.ppf(0.05, k) for k in np.sum(PHI, axis = 1)])"
   ]
  },
  {
   "cell_type": "code",
   "execution_count": 9,
   "id": "animal-connecticut",
   "metadata": {},
   "outputs": [],
   "source": [
    "# 分割数据\n",
    "def secure_share(PHI, XM):\n",
    "    Y = np.array([scipy.stats.chi2.ppf(0.05, k) for k in np.sum(PHI, axis = 1)])\n",
    "    tphi = PHI / np.tile(Y, M).reshape(M, K).T\n",
    "    tphi0 = [[] for k in range(K)]\n",
    "    phi0 = [[] for k in range(K)]\n",
    "    xm0 = [[] for k in range(K)]\n",
    "    for k in range(K):\n",
    "        tphi0[k] = [ round(random.random(),2) for m in range(M)]\n",
    "        phi0[k] = [ round(random.random(),2) for m in range(M)]\n",
    "        xm0[k] = [ round(random.random(),2) for m in range(M)]\n",
    "    tphi0 = np.array(tphi0)\n",
    "    phi0 = np.array(phi0)\n",
    "    xm0 = np.array(xm0)\n",
    "    tphi1 = tphi - tphi0\n",
    "    phi1 = PHI - phi0\n",
    "    xm1 = XM - xm0\n",
    "    return [(tphi0, phi0, xm0), (tphi1, phi1, xm1)]"
   ]
  },
  {
   "cell_type": "code",
   "execution_count": 10,
   "id": "further-canon",
   "metadata": {},
   "outputs": [],
   "source": [
    "[S0_Data, S1_Data] = secure_share(PHI, XM)"
   ]
  },
  {
   "cell_type": "code",
   "execution_count": 11,
   "id": "optimum-tracy",
   "metadata": {},
   "outputs": [],
   "source": [
    "def weight_update_s0(tphi0, phi0, xm0):\n",
    "    M0 = np.sum(tphi0 * (xm0 ** 2), axis = 1) \n",
    "    C0 = []\n",
    "    for m in M0:\n",
    "        C0.append(pk.encrypt(m))\n",
    "    c_xm0 = np.array([pk.encrypt(m) for m in xm0.reshape(K*M,)]).reshape(K, M)\n",
    "    c_xm02 = np.array([pk.encrypt(m) for m in (xm0 ** 2).reshape(K*M,)]).reshape(K, M)\n",
    "    c_tphi0 = np.array([pk.encrypt(m) for m in tphi0.reshape(K*M,)]).reshape(K, M)\n",
    "    c_phi0 = np.array([pk.encrypt(m) for m in phi0.reshape(K*M,)]).reshape(K, M)\n",
    "    c_tphi0_xm0 = np.array([pk.encrypt(m) for m in (tphi0 * xm0).reshape(K*M,)]).reshape(K, M)\n",
    "    C_pack1 = (c_xm0, c_xm02, c_tphi0, c_phi0, c_tphi0_xm0)\n",
    "    return [C0, C_pack1]"
   ]
  },
  {
   "cell_type": "code",
   "execution_count": 12,
   "id": "reflected-pleasure",
   "metadata": {},
   "outputs": [],
   "source": [
    "# (tphi1, phi1, xm1) = S1_Data\n",
    "[C0, C_pack1] = weight_update_s0(*S0_Data)"
   ]
  },
  {
   "cell_type": "code",
   "execution_count": 13,
   "id": "governing-premiere",
   "metadata": {},
   "outputs": [],
   "source": [
    "# def weight_update_s1(thpi1, phi1, xm1, XT, C0, C_pack1):\n",
    "#     tphi1 * C_pack1[1]"
   ]
  },
  {
   "cell_type": "code",
   "execution_count": 14,
   "id": "cooked-report",
   "metadata": {},
   "outputs": [],
   "source": [
    "XT = np.sum(XM, axis = 0) / np.sum(PHI, axis = 0)\n",
    "# XT = np.array([round((random.random())*10, 2) for m in range(M)])"
   ]
  },
  {
   "cell_type": "code",
   "execution_count": 15,
   "id": "placed-tribe",
   "metadata": {},
   "outputs": [
    {
     "data": {
      "text/plain": [
       "array([0.01179855, 0.02388402, 0.02534397, 0.02646769, 0.00841197,\n",
       "       0.00606093])"
      ]
     },
     "execution_count": 15,
     "metadata": {},
     "output_type": "execute_result"
    }
   ],
   "source": [
    "tw = catd_weight_update(PHI, XM, XT)\n",
    "tw"
   ]
  },
  {
   "cell_type": "code",
   "execution_count": 16,
   "id": "golden-conditions",
   "metadata": {},
   "outputs": [],
   "source": [
    "def weight_update_s1(tphi1, phi1, xm1, C0, C_pack1, XT):\n",
    "    C1 = np.sum(tphi1 * C_pack1[1], axis = 1)\n",
    "    C2 = np.sum(np.multiply(2, (xm1 - XT)) * (C_pack1[4] + tphi1 * C_pack1[0]), axis = 1)\n",
    "    C3 = np.sum((xm1 - XT) ** 2 * C_pack1[2], axis = 1)\n",
    "    C4 = np.array([pk.encrypt(m) for m in np.sum(tphi1 * (xm1 - XT) ** 2, axis = 1)])\n",
    "    return 1 / np.array([sk.decrypt(c) for c in C0 + C1 + C2 + C3 + C4])"
   ]
  },
  {
   "cell_type": "code",
   "execution_count": 17,
   "id": "developed-crack",
   "metadata": {},
   "outputs": [
    {
     "data": {
      "text/plain": [
       "array([0.01179855, 0.02388402, 0.02534397, 0.02646769, 0.00841197,\n",
       "       0.00606093])"
      ]
     },
     "execution_count": 17,
     "metadata": {},
     "output_type": "execute_result"
    }
   ],
   "source": [
    "weight_update_s1(*S1_Data, C0, C_pack1, XT)"
   ]
  },
  {
   "cell_type": "code",
   "execution_count": 18,
   "id": "armed-spring",
   "metadata": {},
   "outputs": [],
   "source": [
    "def truth_update_s0(tw, tphi0, phi0, xm0):\n",
    "    c_tw = np.array([pk.encrypt(m) for m in tw])\n",
    "    c_tw_xm0 = np.array([pk.encrypt(m) for m in (np.tile(tw, M).reshape(M, K).T * xm0).reshape(K*M,)]).reshape(K, M)\n",
    "    c_tw_phi0 = np.array([pk.encrypt(m) for m in (np.tile(tw, M).reshape(M, K).T * phi0).reshape(K*M,)]).reshape(K, M)\n",
    "    return (c_tw, c_tw_xm0, c_tw_phi0)"
   ]
  },
  {
   "cell_type": "code",
   "execution_count": 19,
   "id": "outstanding-timothy",
   "metadata": {},
   "outputs": [],
   "source": [
    "C_pack2 = truth_update_s0(tw, *S0_Data)"
   ]
  },
  {
   "cell_type": "code",
   "execution_count": 20,
   "id": "stupid-brick",
   "metadata": {},
   "outputs": [],
   "source": [
    "def truth_update_s1(tphi1, phi1, xm1, C_pack2):\n",
    "    C5 = np.sum(C_pack2[1] + np.tile(C_pack2[0], M).reshape(M, K).T * xm1, axis = 0)\n",
    "    C6 = np.sum(C_pack2[2] + np.tile(C_pack2[0], M).reshape(M, K).T * phi1, axis = 0)\n",
    "    return [C5, C6]"
   ]
  },
  {
   "cell_type": "code",
   "execution_count": 21,
   "id": "impressed-rocket",
   "metadata": {},
   "outputs": [],
   "source": [
    "[C5, C6] = truth_update_s1(*S1_Data, C_pack2)"
   ]
  },
  {
   "cell_type": "code",
   "execution_count": 22,
   "id": "floral-synthesis",
   "metadata": {},
   "outputs": [
    {
     "data": {
      "text/plain": [
       "[3.572460879154833,\n",
       " 6.869581545807172,\n",
       " 4.73580466064769,\n",
       " 5.5859344005910065,\n",
       " 6.170921583966461]"
      ]
     },
     "execution_count": 22,
     "metadata": {},
     "output_type": "execute_result"
    }
   ],
   "source": [
    "[sk.decrypt(wx) / sk.decrypt(wphi) for wx,wphi in zip(C5, C6)]"
   ]
  },
  {
   "cell_type": "code",
   "execution_count": 23,
   "id": "governmental-worse",
   "metadata": {},
   "outputs": [
    {
     "data": {
      "text/plain": [
       "array([3.57246088, 6.86958155, 4.73580466, 5.5859344 , 6.17092158])"
      ]
     },
     "execution_count": 23,
     "metadata": {},
     "output_type": "execute_result"
    }
   ],
   "source": [
    "catd_truth_update(PHI, XM, tw)"
   ]
  }
 ],
 "metadata": {
  "kernelspec": {
   "display_name": "Python 3",
   "language": "python",
   "name": "python3"
  },
  "language_info": {
   "codemirror_mode": {
    "name": "ipython",
    "version": 3
   },
   "file_extension": ".py",
   "mimetype": "text/x-python",
   "name": "python",
   "nbconvert_exporter": "python",
   "pygments_lexer": "ipython3",
   "version": "3.9.2"
  }
 },
 "nbformat": 4,
 "nbformat_minor": 5
}
