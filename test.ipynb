{
 "cells": [
  {
   "cell_type": "code",
   "execution_count": 1,
   "id": "ultimate-amount",
   "metadata": {},
   "outputs": [],
   "source": [
    "from phe import paillier"
   ]
  },
  {
   "cell_type": "code",
   "execution_count": 2,
   "id": "gorgeous-basic",
   "metadata": {},
   "outputs": [],
   "source": [
    "import random"
   ]
  },
  {
   "cell_type": "code",
   "execution_count": 3,
   "id": "historic-mount",
   "metadata": {},
   "outputs": [],
   "source": [
    "import scipy.stats"
   ]
  },
  {
   "cell_type": "code",
   "execution_count": 4,
   "id": "sonic-television",
   "metadata": {},
   "outputs": [],
   "source": [
    "import numpy as np"
   ]
  },
  {
   "cell_type": "code",
   "execution_count": 5,
   "id": "established-finish",
   "metadata": {},
   "outputs": [],
   "source": [
    "K = 6; M = 5; S = 5"
   ]
  },
  {
   "cell_type": "code",
   "execution_count": 6,
   "id": "extensive-paintball",
   "metadata": {},
   "outputs": [],
   "source": [
    "XM = np.zeros([K, M])"
   ]
  },
  {
   "cell_type": "code",
   "execution_count": 7,
   "id": "frequent-gathering",
   "metadata": {},
   "outputs": [],
   "source": [
    "PHI = np.zeros([K, M])"
   ]
  },
  {
   "cell_type": "code",
   "execution_count": 8,
   "id": "continent-roads",
   "metadata": {},
   "outputs": [],
   "source": [
    "SPL = [1] * S + [0] * (10 - S)"
   ]
  },
  {
   "cell_type": "code",
   "execution_count": 9,
   "id": "metric-hampton",
   "metadata": {},
   "outputs": [],
   "source": [
    "pk, sk = paillier.generate_paillier_keypair()"
   ]
  },
  {
   "cell_type": "code",
   "execution_count": 10,
   "id": "valid-modification",
   "metadata": {},
   "outputs": [],
   "source": [
    "for k in range(K):\n",
    "    PHI[k] = [random.choice(SPL) for m in range(M)]\n",
    "for i in np.sum(PHI, axis = 0):\n",
    "    assert i > 0"
   ]
  },
  {
   "cell_type": "code",
   "execution_count": 11,
   "id": "alternate-landscape",
   "metadata": {},
   "outputs": [],
   "source": [
    "for k in range(K):\n",
    "    for m in range(M):\n",
    "        XM[k][m] = PHI[k][m] * round((random.random())*10, 2)"
   ]
  },
  {
   "cell_type": "code",
   "execution_count": 12,
   "id": "meaningful-lighter",
   "metadata": {},
   "outputs": [],
   "source": [
    "Y = np.array([scipy.stats.chi2.ppf(0.05, k) for k in np.sum(PHI, axis = 1)])"
   ]
  },
  {
   "cell_type": "code",
   "execution_count": 13,
   "id": "domestic-antarctica",
   "metadata": {},
   "outputs": [
    {
     "data": {
      "text/plain": [
       "array([7.97  , 5.475 , 1.91  , 3.9275, 4.71  ])"
      ]
     },
     "execution_count": 13,
     "metadata": {},
     "output_type": "execute_result"
    }
   ],
   "source": [
    "np.sum(XM, axis = 0) / np.sum(PHI, axis = 0)"
   ]
  },
  {
   "cell_type": "code",
   "execution_count": 14,
   "id": "indonesian-carolina",
   "metadata": {},
   "outputs": [],
   "source": [
    "truth = np.array([round((random.random())*10, 2) for m in range(M)])"
   ]
  },
  {
   "cell_type": "code",
   "execution_count": 15,
   "id": "structured-dancing",
   "metadata": {},
   "outputs": [],
   "source": [
    "W = Y / np.sum(PHI * (XM - truth) ** 2, axis = 1)"
   ]
  },
  {
   "cell_type": "code",
   "execution_count": 16,
   "id": "liked-restoration",
   "metadata": {},
   "outputs": [
    {
     "data": {
      "text/plain": [
       "array([0.00641426, 0.00900752, 0.00297667, 0.00010164, 0.00842603,\n",
       "       0.00253005])"
      ]
     },
     "execution_count": 16,
     "metadata": {},
     "output_type": "execute_result"
    }
   ],
   "source": [
    "W"
   ]
  },
  {
   "cell_type": "code",
   "execution_count": 17,
   "id": "pleasant-forum",
   "metadata": {},
   "outputs": [
    {
     "data": {
      "text/plain": [
       "array([8.04969552, 6.20343618, 1.91      , 3.18643267, 3.69202943])"
      ]
     },
     "execution_count": 17,
     "metadata": {},
     "output_type": "execute_result"
    }
   ],
   "source": [
    "np.dot(W.T, XM) / np.dot(W.T, PHI)"
   ]
  },
  {
   "cell_type": "code",
   "execution_count": 18,
   "id": "widespread-interview",
   "metadata": {},
   "outputs": [],
   "source": [
    "# 加密权重更新\n",
    "# PHI = phi0 + phi1\n",
    "# XM = xm0 + xm1"
   ]
  },
  {
   "cell_type": "code",
   "execution_count": 19,
   "id": "excess-police",
   "metadata": {},
   "outputs": [],
   "source": [
    "tphi = [ PHI[k] / Y[k] for k in range(K)]"
   ]
  },
  {
   "cell_type": "code",
   "execution_count": 20,
   "id": "gorgeous-original",
   "metadata": {},
   "outputs": [],
   "source": [
    "tphi0 = [[] for k in range(K)]\n",
    "phi0 = [[] for k in range(K)]\n",
    "xm0 = [[] for k in range(K)]\n",
    "for k in range(K):\n",
    "    tphi0[k] = [ round(random.random(),2) for m in range(M)]\n",
    "    phi0[k] = [ round(random.random(),2) for m in range(M)]\n",
    "    xm0[k] = [ round(random.random(),2) for m in range(M)]\n",
    "tphi0 = np.array(tphi0)\n",
    "phi0 = np.array(phi0)\n",
    "xm0 = np.array(xm0)"
   ]
  },
  {
   "cell_type": "code",
   "execution_count": 21,
   "id": "swiss-webster",
   "metadata": {},
   "outputs": [],
   "source": [
    "tphi1 = tphi - tphi0\n",
    "phi1 = PHI - phi0\n",
    "xm1 = XM - xm0"
   ]
  },
  {
   "cell_type": "code",
   "execution_count": 22,
   "id": "assisted-oxford",
   "metadata": {},
   "outputs": [],
   "source": [
    "C0 = np.sum(tphi0 * (xm0 ** 2), axis = 1)"
   ]
  },
  {
   "cell_type": "code",
   "execution_count": 23,
   "id": "gothic-zoning",
   "metadata": {},
   "outputs": [],
   "source": [
    "C1 = np.sum(tphi1 * (xm0 ** 2), axis = 1)"
   ]
  },
  {
   "cell_type": "code",
   "execution_count": 24,
   "id": "passing-yacht",
   "metadata": {},
   "outputs": [],
   "source": [
    "# C2 = np.sum(2 * tphi * xm0 * (xm1 - truth), axis = 1)"
   ]
  },
  {
   "cell_type": "code",
   "execution_count": 25,
   "id": "pediatric-trade",
   "metadata": {},
   "outputs": [],
   "source": [
    "C2 = np.sum(np.multiply(2, tphi) * xm0 * (xm1 - truth), axis = 1)"
   ]
  },
  {
   "cell_type": "code",
   "execution_count": 26,
   "id": "entertaining-teaching",
   "metadata": {},
   "outputs": [],
   "source": [
    "C3 = np.sum(tphi0 * (xm1 - truth) ** 2, axis = 1)"
   ]
  },
  {
   "cell_type": "code",
   "execution_count": 27,
   "id": "vertical-allergy",
   "metadata": {},
   "outputs": [],
   "source": [
    "C4 = np.sum(tphi1 * (xm1 - truth) ** 2, axis = 1)"
   ]
  },
  {
   "cell_type": "code",
   "execution_count": 28,
   "id": "brazilian-assembly",
   "metadata": {},
   "outputs": [
    {
     "data": {
      "text/plain": [
       "array([0.00641426, 0.00900752, 0.00297667, 0.00010164, 0.00842603,\n",
       "       0.00253005])"
      ]
     },
     "execution_count": 28,
     "metadata": {},
     "output_type": "execute_result"
    }
   ],
   "source": [
    "1/ (C0 + C1 + C2 + C3 + C4)"
   ]
  },
  {
   "cell_type": "code",
   "execution_count": 29,
   "id": "controversial-aaron",
   "metadata": {},
   "outputs": [],
   "source": [
    "C5 = np.dot(W, XM)"
   ]
  },
  {
   "cell_type": "code",
   "execution_count": 30,
   "id": "induced-tours",
   "metadata": {},
   "outputs": [],
   "source": [
    "C6 = np.dot(W, PHI)"
   ]
  },
  {
   "cell_type": "code",
   "execution_count": 31,
   "id": "incoming-possibility",
   "metadata": {},
   "outputs": [
    {
     "data": {
      "text/plain": [
       "array([8.04969552, 6.20343618, 1.91      , 3.18643267, 3.69202943])"
      ]
     },
     "execution_count": 31,
     "metadata": {},
     "output_type": "execute_result"
    }
   ],
   "source": [
    "C5/C6"
   ]
  },
  {
   "cell_type": "code",
   "execution_count": 32,
   "id": "short-leave",
   "metadata": {},
   "outputs": [
    {
     "data": {
      "text/plain": [
       "(6, 5)"
      ]
     },
     "execution_count": 32,
     "metadata": {},
     "output_type": "execute_result"
    }
   ],
   "source": [
    "XM.shape"
   ]
  },
  {
   "cell_type": "code",
   "execution_count": 33,
   "id": "direct-aurora",
   "metadata": {},
   "outputs": [
    {
     "data": {
      "text/plain": [
       "array([0.  , 9.03, 0.  , 7.46, 3.17, 0.  , 2.61, 0.  , 1.76, 2.11, 8.74,\n",
       "       0.  , 0.  , 6.04, 8.11, 0.  , 2.32, 0.  , 0.  , 0.  , 8.1 , 7.94,\n",
       "       1.91, 0.45, 0.  , 7.07, 0.  , 0.  , 0.  , 5.45])"
      ]
     },
     "execution_count": 33,
     "metadata": {},
     "output_type": "execute_result"
    }
   ],
   "source": [
    "XM.reshape(K*M,)"
   ]
  }
 ],
 "metadata": {
  "kernelspec": {
   "display_name": "Python 3",
   "language": "python",
   "name": "python3"
  },
  "language_info": {
   "codemirror_mode": {
    "name": "ipython",
    "version": 3
   },
   "file_extension": ".py",
   "mimetype": "text/x-python",
   "name": "python",
   "nbconvert_exporter": "python",
   "pygments_lexer": "ipython3",
   "version": "3.9.2"
  }
 },
 "nbformat": 4,
 "nbformat_minor": 5
}
